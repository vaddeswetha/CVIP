{
 "cells": [
  {
   "cell_type": "code",
   "execution_count": null,
   "id": "619650cc",
   "metadata": {},
   "outputs": [],
   "source": [
    "#Phase 1\n",
    "#Task 1\n",
    "#1. Calculator\n",
    "The objective of this project is to design and develop a calculator application in Python that\n",
    "allows users to perform basic arithmetic operations such as addition, subtraction,\n",
    "multiplication, and division. The application should provide a user-friendly interface and\n",
    "accurate calculations."
   ]
  },
  {
   "cell_type": "code",
   "execution_count": null,
   "id": "df6c3abe",
   "metadata": {},
   "outputs": [
    {
     "name": "stdout",
     "output_type": "stream",
     "text": [
      "Select operation.\n",
      "1.Add\n",
      "2.Subtract\n",
      "3.Multiply\n",
      "4.Divide\n",
      "Enter choice(1/2/3/4:) 1\n",
      "Enter first number: 2\n",
      "Enter second numder: 3\n",
      "2.0 + 3.0 = 5.0\n",
      "Want to do next calculation? (yes/no):yes\n",
      "Enter choice(1/2/3/4:) 2\n",
      "Enter first number: 6\n",
      "Enter second numder: 47\n",
      "6.0 - 47.0 = -41.0\n",
      "Want to do next calculation? (yes/no):yes\n",
      "Enter choice(1/2/3/4:) 3\n",
      "Enter first number: 12\n",
      "Enter second numder: 17\n",
      "12.0 * 17.0 = 204.0\n",
      "Want to do next calculation? (yes/no):yes\n",
      "Enter choice(1/2/3/4:) 4\n",
      "Enter first number: 8\n",
      "Enter second numder: 2\n",
      "8.0 / 2.0 = 4.0\n"
     ]
    }
   ],
   "source": [
    "#this function adds two numbers\n",
    "def add(a, b):\n",
    "    return a + b\n",
    "#this function subtracts two numbers\n",
    "def subtract(a, b):\n",
    "    return a - b\n",
    "#this function multiplies two numbers\n",
    "def multiply(a, b):\n",
    "    return a * b\n",
    "#this function divides two numbers\n",
    "def divide(a, b):\n",
    "    return a / b\n",
    "\n",
    "print(\"Select operation.\")\n",
    "print(\"1.Add\")\n",
    "print(\"2.Subtract\")\n",
    "print(\"3.Multiply\")\n",
    "print(\"4.Divide\")\n",
    "\n",
    "while True:\n",
    "    # take input from user\n",
    "    choice = input(\"Enter choice(1/2/3/4:) \")\n",
    "    #check if choice is one of four options\n",
    "    if choice in ('1','2','3','4'):\n",
    "        try:\n",
    "            n1=float(input(\"Enter first number: \"))\n",
    "            n2=float(input(\"Enter second numder: \"))\n",
    "        except ValueError:\n",
    "            print(\"Invalid input. please enter a number.\")\n",
    "            continue\n",
    "            \n",
    "        if choice=='1':\n",
    "            print(n1, \"+\", n2, \"=\", add(n1,n2))\n",
    "        elif choice=='2':\n",
    "            print(n1, \"-\",n2,\"=\",subtract(n1,n2))\n",
    "        elif choice=='3':\n",
    "            print(n1, \"*\",n2,\"=\",multiply(n1,n2))\n",
    "        elif choice=='4':\n",
    "            print(n1,\"/\",n2,\"=\",divide(n1,n2))\n",
    "            \n",
    "        next_calculation= input(\"Want to do next calculation? (yes/no):\")\n",
    "        if next_calculation=='no':\n",
    "            break\n",
    "    else:\n",
    "        print(\"Invalid Input\")\n",
    "            \n",
    "        \n",
    "        \n",
    "            \n",
    "    "
   ]
  }
 ],
 "metadata": {
  "kernelspec": {
   "display_name": "Python 3 (ipykernel)",
   "language": "python",
   "name": "python3"
  },
  "language_info": {
   "codemirror_mode": {
    "name": "ipython",
    "version": 3
   },
   "file_extension": ".py",
   "mimetype": "text/x-python",
   "name": "python",
   "nbconvert_exporter": "python",
   "pygments_lexer": "ipython3",
   "version": "3.11.5"
  }
 },
 "nbformat": 4,
 "nbformat_minor": 5
}
