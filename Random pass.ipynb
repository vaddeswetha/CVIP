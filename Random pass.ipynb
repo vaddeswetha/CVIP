{
 "cells": [
  {
   "cell_type": "code",
   "execution_count": 2,
   "id": "4a5f38b4",
   "metadata": {},
   "outputs": [
    {
     "name": "stdout",
     "output_type": "stream",
     "text": [
      "G7EY(*JQQnWP\n"
     ]
    }
   ],
   "source": [
    "# Phase 1\n",
    "# 2. Random Password Generator\n",
    "#The objective of this project is to design and develop a random password generatorapplication that allows users to generate strong and secure passwords with various criteria.\n",
    "#The application should provide options for password length, character types, and specialrequirements.\n",
    "\n",
    "import random\n",
    "import array\n",
    "\n",
    "# maximum length of password\n",
    "MAX_LEN = 12\n",
    "#d eclaration of arrays ofcharacters to enable string conctenation\n",
    "DIGITS = ['0','1','2','3','4','5','6','7','8','9']\n",
    "UPPERCASE_CHARACTERS = ['A','B','C','D','E','F','G','H','I','J','K','L','M','N','O','P','Q','R','S','T','U','V','W','X','Y','Z']\n",
    "\n",
    "LOWERCASE_CHARACTERS = ['a','b','c','d','e','f','g','h','i','j','k','l','m','n','o','p','q','r','s','t','u','v','w','x','y','z']\n",
    "\n",
    "SYMBOLS = ['@','#','$','%','=',':','?','.','/','|','>','<','*','(',')']\n",
    "\n",
    "#combining all the characters to form an array\n",
    "\n",
    "COMBINED_LIST = DIGITS + UPPERCASE_CHARACTERS + LOWERCASE_CHARACTERS+SYMBOLS\n",
    "rand_digit = random.choice(DIGITS)\n",
    "rand_upper = random.choice(UPPERCASE_CHARACTERS)\n",
    "rand_lower = random.choice(LOWERCASE_CHARACTERS)\n",
    "rand_symbol = random.choice(SYMBOLS)\n",
    "\n",
    "#combine the character randomly selected from above\n",
    "\n",
    "temp_pass=rand_digit + rand_upper + rand_lower + rand_symbol\n",
    "for x in range(MAX_LEN - 4):\n",
    "    temp_pass = temp_pass + random.choice(COMBINED_LIST)\n",
    "    # convert temporary password into array\n",
    "    temp_pass_list=array.array('u',temp_pass)\n",
    "    random.shuffle(temp_pass_list)\n",
    "    \n",
    "# traversing the temporary password array  and append chars to form password\n",
    "\n",
    "password=\"\"\n",
    "for x in temp_pass_list:\n",
    "    password = password + x\n",
    "    \n",
    "# print password\n",
    "print(password)"
   ]
  },
  {
   "cell_type": "code",
   "execution_count": null,
   "id": "280b94c1",
   "metadata": {},
   "outputs": [],
   "source": []
  }
 ],
 "metadata": {
  "kernelspec": {
   "display_name": "Python 3 (ipykernel)",
   "language": "python",
   "name": "python3"
  },
  "language_info": {
   "codemirror_mode": {
    "name": "ipython",
    "version": 3
   },
   "file_extension": ".py",
   "mimetype": "text/x-python",
   "name": "python",
   "nbconvert_exporter": "python",
   "pygments_lexer": "ipython3",
   "version": "3.11.5"
  }
 },
 "nbformat": 4,
 "nbformat_minor": 5
}
